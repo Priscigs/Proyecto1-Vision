{
 "cells": [
  {
   "cell_type": "code",
   "execution_count": 1,
   "metadata": {},
   "outputs": [],
   "source": [
    "import numpy as np\n",
    "import matplotlib.pyplot as plt\n",
    "import cv2\n",
    "import os"
   ]
  },
  {
   "cell_type": "code",
   "execution_count": 7,
   "metadata": {},
   "outputs": [],
   "source": [
    "def get_image_files(directory):\n",
    "    image_files = []\n",
    "    for file in os.listdir(directory):\n",
    "        if file.endswith(\".pgm\"):\n",
    "            image_files.append(os.path.join(directory, file))\n",
    "    return image_files"
   ]
  },
  {
   "cell_type": "code",
   "execution_count": 8,
   "metadata": {},
   "outputs": [
    {
     "name": "stdout",
     "output_type": "stream",
     "text": [
      "['./database\\\\10_gt.pgm', './database\\\\11_gt.pgm', './database\\\\12_gt.pgm', './database\\\\13_gt.pgm', './database\\\\14_gt.pgm', './database\\\\15_gt.pgm', './database\\\\16_gt.pgm', './database\\\\17_gt.pgm', './database\\\\18_gt.pgm', './database\\\\19_gt.pgm', './database\\\\1_gt.pgm', './database\\\\20_gt.pgm', './database\\\\2_gt.pgm', './database\\\\3_gt.pgm', './database\\\\4_gt.pgm', './database\\\\5_gt.pgm', './database\\\\6_gt.pgm', './database\\\\7_gt.pgm', './database\\\\8_gt.pgm', './database\\\\9_gt.pgm']\n"
     ]
    }
   ],
   "source": [
    "\n",
    "\n",
    "path = './database'\n",
    "images = get_image_files(path)\n",
    "gt_images = [i for i in images if 'gt' in i]\n",
    "\n",
    "\n",
    "print(gt_images)"
   ]
  },
  {
   "cell_type": "code",
   "execution_count": 10,
   "metadata": {},
   "outputs": [],
   "source": [
    "\n",
    "# Load an image\n",
    "image = cv2.imread(gt_images[0])\n",
    "\n",
    "# Display the image\n",
    "cv2.imshow(\"Image\", image)\n",
    "cv2.waitKey(0)\n",
    "cv2.destroyAllWindows()"
   ]
  },
  {
   "cell_type": "code",
   "execution_count": 14,
   "metadata": {},
   "outputs": [],
   "source": [
    "def skeletonizeMorphological(img):\n",
    "    img = cv2.imread(gt_images[0],0)\n",
    "    size = np.size(img)\n",
    "    skel = np.zeros(img.shape,np.uint8)\n",
    "\n",
    "    ret,img = cv2.threshold(img,127,255,0)\n",
    "    element = cv2.getStructuringElement(cv2.MORPH_CROSS,(3,3))\n",
    "    done = False\n",
    "\n",
    "    #Obtained from: https://opencvpython.blogspot.com/2012/05/skeletonization-using-opencv-python.html\n",
    "    #Skeleton = I - HitOrMiss(I, J)\n",
    "        #https://homepages.inf.ed.ac.uk/rbf/HIPR2/thin.htm\n",
    "    while( not done):\n",
    "        eroded = cv2.erode(img,element)\n",
    "        temp = cv2.dilate(eroded,element)\n",
    "        temp = cv2.subtract(img,temp)\n",
    "        skel = cv2.bitwise_or(skel,temp)\n",
    "        img = eroded.copy()\n",
    "\n",
    "        zeros = size - cv2.countNonZero(img)\n",
    "        if zeros==size:\n",
    "            done = True\n",
    "    \n",
    "    return skel"
   ]
  },
  {
   "cell_type": "code",
   "execution_count": null,
   "metadata": {},
   "outputs": [],
   "source": [
    "def skeletonizeZhangSuen(img):\n",
    "    #Reference: https://github.com/linbojin/Skeletonization-by-Zhang-Suen-Thinning-Algorithm/blob/master/thinning.py\n",
    "    pass"
   ]
  },
  {
   "cell_type": "code",
   "execution_count": 15,
   "metadata": {},
   "outputs": [],
   "source": [
    "\n",
    "skel = skeletonizeMorphological(gt_images[0])\n",
    "cv2.imshow(\"skel\",skel)\n",
    "cv2.waitKey(0)\n",
    "cv2.destroyAllWindows()"
   ]
  }
 ],
 "metadata": {
  "kernelspec": {
   "display_name": "Python 3",
   "language": "python",
   "name": "python3"
  },
  "language_info": {
   "codemirror_mode": {
    "name": "ipython",
    "version": 3
   },
   "file_extension": ".py",
   "mimetype": "text/x-python",
   "name": "python",
   "nbconvert_exporter": "python",
   "pygments_lexer": "ipython3",
   "version": "3.10.0"
  }
 },
 "nbformat": 4,
 "nbformat_minor": 2
}
